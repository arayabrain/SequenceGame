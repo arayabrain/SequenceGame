{
 "cells": [
  {
   "cell_type": "code",
   "execution_count": 1,
   "metadata": {},
   "outputs": [],
   "source": [
    "%matplotlib inline\n",
    "\n",
    "import numpy as np\n",
    "import matplotlib.pyplot as plt\n",
    "\n",
    "import glob\n",
    "import sys\n",
    "\n",
    "from math import *\n",
    "import pickle\n",
    "\n",
    "import torch\n",
    "import torch.nn as nn\n",
    "from torch.nn import Parameter\n",
    "from torch.nn import functional as F\n",
    "import torch.optim\n",
    "from torch.autograd import Variable\n",
    "\n",
    "from IPython import display\n",
    "import time\n",
    "\n",
    "import copy\n",
    "\n",
    "def tovar(x):\n",
    "    return Variable(torch.FloatTensor(x).cuda(), requires_grad = False)\n",
    "\n",
    "def toivar(x):\n",
    "    return Variable(torch.LongTensor(x).cuda(), requires_grad = False)"
   ]
  },
  {
   "cell_type": "code",
   "execution_count": 2,
   "metadata": {},
   "outputs": [],
   "source": [
    "class Attention(nn.Module):\n",
    "    def __init__(self, Nfield, Nhead, Nkey, Nval):\n",
    "        super(Attention,self).__init__()\n",
    "        \n",
    "        self.field_to_key = nn.Conv1d(Nfield, Nkey, 1)\n",
    "        self.field_to_val = nn.Conv1d(Nfield, Nval, 1)        \n",
    "        self.head_to_key = nn.Conv1d(Nhead, Nkey, 1)\n",
    "        \n",
    "        self.nkey = Nkey\n",
    "        self.nval = Nval\n",
    "        \n",
    "    def forward(self, field, value, heads):\n",
    "        s = field.size()\n",
    "        fkeys = self.field_to_key(field)\n",
    "        fvals = self.field_to_val(value)\n",
    "        \n",
    "        hkeys = self.head_to_key(heads) # Batch * Keys * Heads\n",
    "        \n",
    "        z = torch.bmm(fkeys.transpose(1,2), hkeys)/sqrt(self.nkey)\n",
    "        w = torch.exp(torch.clamp(z,-30,30)) # Batch * (X*Y) * Heads\n",
    "        w = w/(torch.sum(w,1,keepdim=True) + 1e-16)\n",
    "        \n",
    "        y = torch.bmm(fvals, w) # Batch * Vals * Heads\n",
    "        return y\n",
    "    \n",
    "class Block(nn.Module):\n",
    "    def __init__(self, NETSIZE):\n",
    "        super(Block,self).__init__()\n",
    "        self.attn = nn.ModuleList([Attention(NETSIZE, NETSIZE, 32, NETSIZE//8) for i in range(8)])\n",
    "        \n",
    "        self.l1 = nn.Conv1d(NETSIZE,NETSIZE,1)\n",
    "        self.l2 = nn.Conv1d(NETSIZE,NETSIZE,1)\n",
    "        \n",
    "    def forward(self, xf, xv, y):\n",
    "        attns = [ self.attn[i](xf,xv,y) for i in range(8) ]\n",
    "        z = y + torch.cat(attns,1)\n",
    "        z = (z-torch.mean(z,1,keepdim=True)) / (1e-16 + torch.std(z,1,keepdim=True))\n",
    "        z = z + self.l2(F.relu(self.l1(z)))\n",
    "        z = (z-torch.mean(z,1,keepdim=True)) / (1e-16 + torch.std(z,1,keepdim=True))\n",
    "        \n",
    "        return z"
   ]
  },
  {
   "cell_type": "code",
   "execution_count": 3,
   "metadata": {},
   "outputs": [],
   "source": [
    "class Net(nn.Module):\n",
    "    def __init__(self, N):\n",
    "        super(Net,self).__init__()\n",
    "        \n",
    "        self.lstm_ItoM = nn.LSTM(4, N, num_layers=3, bidirectional=True)\n",
    "        self.lstm_OtoM = nn.LSTM(4, N, num_layers=3, bidirectional=True)\n",
    "        self.lstm_QtoM1 = nn.LSTM(4, N, num_layers=3, bidirectional=True)\n",
    "        \n",
    "        self.QtoM2 = nn.Conv1d(2*N, 4*N, 1)\n",
    "        self.MxtoMx2 = nn.Conv1d(2*N, 4*N, 1)\n",
    "        \n",
    "        self.mem_to_mem = Block(4*N)\n",
    "        self.mem_to_mem2 = Block(4*N)\n",
    "        self.mem_to_mem3 = Block(4*N)\n",
    "        self.mem_query = Block(4*N)\n",
    "        self.mem_query2 = Block(4*N)\n",
    "        self.mem_query3 = Block(4*N)\n",
    "        \n",
    "        self.decode1 = nn.LSTM(4 + 4*N, N, num_layers=3, bidirectional=True)\n",
    "        self.decode2 = nn.Conv2d(2*N,4,1)\n",
    "        self.N = N\n",
    "        \n",
    "        self.adam = torch.optim.Adam(self.parameters(), lr=5e-4)\n",
    "        \n",
    "    def forward(self, mem_x, mem_y, query):\n",
    "        N = self.N\n",
    "        S = mem_x.size()\n",
    "        # mem_x is: batch x 4*L x memsize\n",
    "        \n",
    "        mx = mem_x.view(S[0], 4, S[1]//4, S[2]).contiguous()\n",
    "        mx = mx.transpose(0,2).contiguous().view(S[1]//4,4,S[0]*S[2]).contiguous().transpose(1,2)\n",
    "        # mx is: L x batch * memsize x 4\n",
    "        \n",
    "        my = mem_y.view(S[0], 4, S[1]//4, S[2]).contiguous()\n",
    "        my = my.transpose(0,2).contiguous().view(S[1]//4,4,S[0]*S[2]).contiguous().transpose(1,2)\n",
    "        \n",
    "        SQ = query.size()\n",
    "        Q = query.view(SQ[0], 4, SQ[1]//4, SQ[2]).contiguous()\n",
    "        Q = Q.transpose(0,2).contiguous().view(SQ[1]//4,4,SQ[0]*SQ[2]).contiguous().transpose(1,2)\n",
    "        \n",
    "        Mx = self.lstm_ItoM(mx)\n",
    "        Mx = Mx[0][-1].view(S[0],S[2],2*N).contiguous().transpose(1,2)\n",
    "        My = self.lstm_OtoM(my)\n",
    "        My = My[0][-1].view(S[0],S[2],2*N).contiguous().transpose(1,2)\n",
    "        MQ = self.lstm_QtoM1(Q)\n",
    "        MQ = MQ[0][-1].view(SQ[0],SQ[2],2*N).contiguous().transpose(1,2)\n",
    "        \n",
    "        # outputs are batch x 64 x memsize \n",
    "                \n",
    "        mem = torch.cat([Mx,My],1)\n",
    "        Mx = self.MxtoMx2(Mx)\n",
    "        MQ = self.QtoM2(MQ)\n",
    "        \n",
    "        mem = self.mem_to_mem(mem, mem, mem)\n",
    "        mem = self.mem_to_mem2(mem, mem, mem)\n",
    "        mem = self.mem_to_mem3(mem, mem, mem)\n",
    "        \n",
    "        result = self.mem_query(Mx, mem, MQ)\n",
    "        result = self.mem_query2(Mx, mem, result)\n",
    "        result = self.mem_query3(Mx, mem, result)\n",
    "        \n",
    "        # result is: batch x 128 x query_size\n",
    "        result = result.transpose(1,2).contiguous()\n",
    "        result = result.view(1, SQ[0]*SQ[2], 4*N).contiguous()\n",
    "        result = result.expand(SQ[1]//4, SQ[0]*SQ[2], 4*N )\n",
    "        \n",
    "        Q = torch.cat([result,Q],2)\n",
    "        \n",
    "        # response is: L x batch*query_size x 32\n",
    "        response = self.decode1(Q)[0]\n",
    "        \n",
    "        # batch x L x query_size x 32\n",
    "        response = response.view(SQ[1]//4, SQ[0], SQ[2], 2*N).contiguous().transpose(0,1)\n",
    "        \n",
    "        # batch x 32 x L x query_size \n",
    "        response = response.transpose(1,3).transpose(2,3)\n",
    "        \n",
    "        # batch x 4*L x query_size\n",
    "        response = F.log_softmax(self.decode2(response),dim=1).view(SQ[0],SQ[1],SQ[2]).contiguous()\n",
    "        \n",
    "        return response"
   ]
  },
  {
   "cell_type": "code",
   "execution_count": 4,
   "metadata": {},
   "outputs": [],
   "source": [
    "net = Net(64).cuda()\n",
    "net.load_state_dict(torch.load(\"net4.pth\"))"
   ]
  },
  {
   "cell_type": "code",
   "execution_count": 5,
   "metadata": {},
   "outputs": [],
   "source": [
    "def reverse():\n",
    "    return lambda x: x[:,::-1]\n",
    "\n",
    "def increment_digit():\n",
    "    return lambda x: np.roll(x,1,axis=0)\n",
    "\n",
    "def decrement_digit():\n",
    "    return lambda x: np.roll(x,-1,axis=0)\n",
    "\n",
    "def flip_digit():\n",
    "    return lambda x: np.roll(x,2,axis=0)\n",
    "\n",
    "def setdigit():\n",
    "    d = np.random.randint(4)\n",
    "    \n",
    "    def subfunc(x):\n",
    "        y = x.copy()\n",
    "        y[:,:,:] = 0\n",
    "        y[d,:,:] = 1\n",
    "        return y\n",
    "    \n",
    "    return subfunc\n",
    "\n",
    "def setseq():\n",
    "    def subfunc(x):\n",
    "        s = np.zeros((4,x.shape[1]))\n",
    "        for i in range(x.shape[1]):\n",
    "            s[np.random.randint(4),i] = 1\n",
    "    \n",
    "        return s.reshape((s.shape[0], s.shape[1], 1)).repeat(x.shape[2],axis=2)\n",
    "    \n",
    "    return subfunc\n",
    "\n",
    "def digitswap():\n",
    "    d1 = np.random.randint(4)\n",
    "    d2 = np.random.randint(4)\n",
    "    \n",
    "    def subfunc(x):\n",
    "        y = x.copy()\n",
    "        l = y[d1,:,:]==1\n",
    "        y[d1,:,:] = 0\n",
    "        y[d2,l] = 1\n",
    "        \n",
    "        return y\n",
    "    \n",
    "    return subfunc\n",
    "        \n",
    "def exchange():\n",
    "    d = np.random.randint(200)\n",
    "    def subfunc(x):\n",
    "        dm = d%x.shape[1]\n",
    "        x1 = x[:,:dm]\n",
    "        x2 = x[:,dm:]\n",
    "    \n",
    "        return np.concatenate([x2,x1],axis=1)\n",
    "    \n",
    "    return subfunc\n",
    "\n",
    "def shuffle():\n",
    "    def subfunc(x):\n",
    "        x1 = x[:,::2]\n",
    "        x2 = x[:,1::2]\n",
    "    \n",
    "        return np.concatenate([x2,x1],axis=1)\n",
    "    return subfunc\n",
    "\n",
    "def stir():\n",
    "    def subfunc(x):\n",
    "        x1 = x[:,::2]\n",
    "        x2 = x[:,1::2]\n",
    "        y = x.copy()\n",
    "        y[:,::2] = x2\n",
    "        y[:,1::2] = x1\n",
    "        \n",
    "        return y\n",
    "    return subfunc\n",
    "\n",
    "def fib():\n",
    "    def subfunc(x):\n",
    "        y = np.argmax(x,axis=0)+1\n",
    "        y = np.mod(np.cumsum(y,axis=0)-1,4)\n",
    "        z = np.zeros((4,y.shape[0],y.shape[1]))\n",
    "        for i in range(y.shape[0]):\n",
    "            for j in range(y.shape[1]):\n",
    "                z[y[i,j],i,j] = 1\n",
    "        return z\n",
    "    \n",
    "    return subfunc\n",
    "\n",
    "def tens():\n",
    "    d = np.random.randint(10)+1\n",
    "    m = np.random.randint(10)+5\n",
    "    \n",
    "    def subfunc(x):\n",
    "        y = np.mod(((np.argmax(x,axis=0)+1)*d//m),4)\n",
    "        z = np.zeros((4,y.shape[0],y.shape[1]))\n",
    "        for i in range(y.shape[0]):\n",
    "            for j in range(y.shape[1]):\n",
    "                z[y[i,j],i,j] = 1\n",
    "        return z\n",
    "    \n",
    "    return subfunc\n",
    "\n",
    "def sort():\n",
    "    d = np.random.randint(2)*2-1\n",
    "    def subfunc(x):\n",
    "        idx = np.argsort(d*np.argmax(x,axis=0),axis=0)\n",
    "        y = x.copy()\n",
    "        for i in range(x.shape[1]):\n",
    "            for j in range(x.shape[2]):\n",
    "                y[:,i,j] = x[:,idx[i,j],j]\n",
    "        return y\n",
    "    return subfunc\n",
    "\n",
    "def conditional_replacement(x, condition, rule):\n",
    "    l = condition(x)\n",
    "    y = rule(x)\n",
    "    \n",
    "    z = x.copy()\n",
    "    z[l] = y[l]\n",
    "    \n",
    "    return z\n",
    "    \n",
    "transforms = [reverse, increment_digit, decrement_digit, flip_digit, \n",
    "              exchange, shuffle, setdigit, setseq, digitswap, sort,\n",
    "              fib, tens]\n",
    "\n",
    "def ifvalue():\n",
    "    d = np.random.randint(4)\n",
    "    return lambda x: x==d\n",
    "\n",
    "def ifeven():\n",
    "    return lambda x: x%2 == 0\n",
    "\n",
    "def ifodd():\n",
    "    return lambda x: x%2 == 1\n",
    "\n",
    "def ifincr():\n",
    "    return lambda x: np.roll(x,1,axis=1)>x\n",
    "\n",
    "def ifdecr():\n",
    "    return lambda x: np.roll(x,1,axis=1)<x\n",
    "\n",
    "def ifadjeq():\n",
    "    return lambda x: np.logical_or( np.roll(x,1,axis=1)==x , np.roll(x,-1,axis=1)==x )\n",
    "\n",
    "conditions = [ifvalue, ifeven, ifodd, ifincr, ifdecr, ifadjeq ]\n",
    "\n",
    "def applyRules(seq, rule):\n",
    "    mseq = seq.copy()\n",
    "    for i in range(len(rule)):\n",
    "        mseq = rule[i](mseq)\n",
    "    \n",
    "    return mseq\n",
    "\n",
    "def mkProblem(N_examples = 10, N_queries = 10, length = 4):\n",
    "    rule = []\n",
    "    N_transforms = np.random.randint(4)+1\n",
    "    \n",
    "    # A small portion of identity rules, because it could happen...\n",
    "    if np.random.rand() < 0.05:\n",
    "        N_transforms = 0\n",
    "\n",
    "    for i in range(N_transforms):\n",
    "        transform = transforms[np.random.randint(len(transforms))]\n",
    "        if np.random.rand() < 0.75:\n",
    "            rule.append(transform())\n",
    "        else:\n",
    "            condition = conditions[np.random.randint(len(conditions))]\n",
    "            rule.append(lambda x: conditional_replacement(x, condition(), transform()))\n",
    "    \n",
    "    examples = np.zeros((4, length, N_examples))\n",
    "    for i in range(N_examples):\n",
    "        for j in range(length):\n",
    "            examples[np.random.randint(4), j, i] = 1\n",
    "    results = applyRules(examples, rule)\n",
    "            \n",
    "    queries = np.zeros((4, length, N_queries))\n",
    "    for i in range(N_queries):\n",
    "        for j in range(length):\n",
    "            queries[np.random.randint(4), j, i] = 1\n",
    "    labels = applyRules(queries, rule)\n",
    "    \n",
    "    return examples, results, queries, labels, rule\n",
    "\n",
    "def oh2seq(x):\n",
    "    seq = ''\n",
    "    for i in range(x.shape[1]):\n",
    "        seq = seq + chr(ord('1') + np.argmax(x[:,i]) )\n",
    "    return seq"
   ]
  },
  {
   "cell_type": "code",
   "execution_count": 6,
   "metadata": {},
   "outputs": [],
   "source": [
    "examples, results, queries, labels, rule = mkProblem(length=8)"
   ]
  },
  {
   "cell_type": "code",
   "execution_count": 7,
   "metadata": {},
   "outputs": [],
   "source": [
    "np.argsort(np.argmax(examples,axis=0),axis=0)\n",
    "s = fib()\n",
    "results = s(examples)"
   ]
  },
  {
   "cell_type": "code",
   "execution_count": 8,
   "metadata": {},
   "outputs": [
    {
     "name": "stdout",
     "output_type": "stream",
     "text": [
      "32141222 -> 31223131\n",
      "32133344 -> 31214333\n",
      "14423332 -> 11132142\n",
      "44224214 -> 44244233\n",
      "24111222 -> 22341313\n",
      "21322342 -> 23242113\n",
      "11212421 -> 12413312\n",
      "21241122 -> 23112313\n",
      "32324244 -> 31422444\n",
      "43212124 -> 43124133\n"
     ]
    }
   ],
   "source": [
    "for i in range(examples.shape[2]):\n",
    "    print(oh2seq(examples[:,:,i]), '->', oh2seq(results[:,:,i]))"
   ]
  },
  {
   "cell_type": "code",
   "execution_count": 13,
   "metadata": {
    "collapsed": true
   },
   "outputs": [],
   "source": [
    "import tqdm"
   ]
  },
  {
   "cell_type": "code",
   "execution_count": 64,
   "metadata": {},
   "outputs": [
    {
     "data": {
      "image/png": "[encoded data removed]",
      "text/plain": [
       "<matplotlib.figure.Figure at 0x7f73c06d3d10>"
      ]
     },
     "metadata": {},
     "output_type": "display_data"
    },
    {
     "ename": "KeyboardInterrupt",
     "evalue": "",
     "output_type": "error",
     "traceback": [
      "\u001b[0;31m\u001b[0m",
      "\u001b[0;31mKeyboardInterrupt\u001b[0mTraceback (most recent call last)",
      "\u001b[0;32m<ipython-input-64-d139d309f03c>\u001b[0m in \u001b[0;36m<module>\u001b[0;34m()\u001b[0m\n\u001b[1;32m     34\u001b[0m             \u001b[0mqy\u001b[0m \u001b[0;34m=\u001b[0m \u001b[0mtovar\u001b[0m\u001b[0;34m(\u001b[0m\u001b[0mdata_qy\u001b[0m\u001b[0;34m.\u001b[0m\u001b[0mreshape\u001b[0m\u001b[0;34m(\u001b[0m\u001b[0;34m(\u001b[0m\u001b[0mdata_qy\u001b[0m\u001b[0;34m.\u001b[0m\u001b[0mshape\u001b[0m\u001b[0;34m[\u001b[0m\u001b[0;36m0\u001b[0m\u001b[0;34m]\u001b[0m\u001b[0;34m,\u001b[0m \u001b[0mdata_qy\u001b[0m\u001b[0;34m.\u001b[0m\u001b[0mshape\u001b[0m\u001b[0;34m[\u001b[0m\u001b[0;36m1\u001b[0m\u001b[0;34m]\u001b[0m\u001b[0;34m*\u001b[0m\u001b[0mdata_qx\u001b[0m\u001b[0;34m.\u001b[0m\u001b[0mshape\u001b[0m\u001b[0;34m[\u001b[0m\u001b[0;36m2\u001b[0m\u001b[0;34m]\u001b[0m\u001b[0;34m,\u001b[0m \u001b[0mdata_qy\u001b[0m\u001b[0;34m.\u001b[0m\u001b[0mshape\u001b[0m\u001b[0;34m[\u001b[0m\u001b[0;36m3\u001b[0m\u001b[0;34m]\u001b[0m\u001b[0;34m)\u001b[0m\u001b[0;34m)\u001b[0m\u001b[0;34m)\u001b[0m\u001b[0;34m\u001b[0m\u001b[0m\n\u001b[1;32m     35\u001b[0m \u001b[0;34m\u001b[0m\u001b[0m\n\u001b[0;32m---> 36\u001b[0;31m             \u001b[0mqp\u001b[0m \u001b[0;34m=\u001b[0m \u001b[0mnet\u001b[0m\u001b[0;34m.\u001b[0m\u001b[0mforward\u001b[0m\u001b[0;34m(\u001b[0m\u001b[0mmx\u001b[0m\u001b[0;34m,\u001b[0m\u001b[0mmy\u001b[0m\u001b[0;34m,\u001b[0m\u001b[0mqx\u001b[0m\u001b[0;34m)\u001b[0m\u001b[0;34m\u001b[0m\u001b[0m\n\u001b[0m\u001b[1;32m     37\u001b[0m             \u001b[0mloss\u001b[0m \u001b[0;34m=\u001b[0m \u001b[0;34m-\u001b[0m\u001b[0mtorch\u001b[0m\u001b[0;34m.\u001b[0m\u001b[0msum\u001b[0m\u001b[0;34m(\u001b[0m\u001b[0mqp\u001b[0m\u001b[0;34m*\u001b[0m\u001b[0mqy\u001b[0m\u001b[0;34m,\u001b[0m\u001b[0;36m1\u001b[0m\u001b[0;34m)\u001b[0m\u001b[0;34m.\u001b[0m\u001b[0mmean\u001b[0m\u001b[0;34m(\u001b[0m\u001b[0;34m)\u001b[0m\u001b[0;34m/\u001b[0m\u001b[0mLENGTH\u001b[0m\u001b[0;34m\u001b[0m\u001b[0m\n\u001b[1;32m     38\u001b[0m             \u001b[0mloss\u001b[0m\u001b[0;34m.\u001b[0m\u001b[0mbackward\u001b[0m\u001b[0;34m(\u001b[0m\u001b[0;34m)\u001b[0m\u001b[0;34m\u001b[0m\u001b[0m\n",
      "\u001b[0;32m<ipython-input-35-16f65fa12c2f>\u001b[0m in \u001b[0;36mforward\u001b[0;34m(self, mem_x, mem_y, query)\u001b[0m\n\u001b[1;32m     57\u001b[0m         \u001b[0mresult\u001b[0m \u001b[0;34m=\u001b[0m \u001b[0mself\u001b[0m\u001b[0;34m.\u001b[0m\u001b[0mmem_query\u001b[0m\u001b[0;34m(\u001b[0m\u001b[0mMx\u001b[0m\u001b[0;34m,\u001b[0m \u001b[0mmem\u001b[0m\u001b[0;34m,\u001b[0m \u001b[0mMQ\u001b[0m\u001b[0;34m)\u001b[0m\u001b[0;34m\u001b[0m\u001b[0m\n\u001b[1;32m     58\u001b[0m         \u001b[0mresult\u001b[0m \u001b[0;34m=\u001b[0m \u001b[0mself\u001b[0m\u001b[0;34m.\u001b[0m\u001b[0mmem_query2\u001b[0m\u001b[0;34m(\u001b[0m\u001b[0mMx\u001b[0m\u001b[0;34m,\u001b[0m \u001b[0mmem\u001b[0m\u001b[0;34m,\u001b[0m \u001b[0mresult\u001b[0m\u001b[0;34m)\u001b[0m\u001b[0;34m\u001b[0m\u001b[0m\n\u001b[0;32m---> 59\u001b[0;31m         \u001b[0mresult\u001b[0m \u001b[0;34m=\u001b[0m \u001b[0mself\u001b[0m\u001b[0;34m.\u001b[0m\u001b[0mmem_query3\u001b[0m\u001b[0;34m(\u001b[0m\u001b[0mMx\u001b[0m\u001b[0;34m,\u001b[0m \u001b[0mmem\u001b[0m\u001b[0;34m,\u001b[0m \u001b[0mresult\u001b[0m\u001b[0;34m)\u001b[0m\u001b[0;34m\u001b[0m\u001b[0m\n\u001b[0m\u001b[1;32m     60\u001b[0m \u001b[0;34m\u001b[0m\u001b[0m\n\u001b[1;32m     61\u001b[0m         \u001b[0;31m# result is: batch x 128 x query_size\u001b[0m\u001b[0;34m\u001b[0m\u001b[0;34m\u001b[0m\u001b[0m\n",
      "\u001b[0;32m/usr/local/lib/python2.7/dist-packages/torch/nn/modules/module.pyc\u001b[0m in \u001b[0;36m__call__\u001b[0;34m(self, *input, **kwargs)\u001b[0m\n\u001b[1;32m    323\u001b[0m         \u001b[0;32mfor\u001b[0m \u001b[0mhook\u001b[0m \u001b[0;32min\u001b[0m \u001b[0mself\u001b[0m\u001b[0;34m.\u001b[0m\u001b[0m_forward_pre_hooks\u001b[0m\u001b[0;34m.\u001b[0m\u001b[0mvalues\u001b[0m\u001b[0;34m(\u001b[0m\u001b[0;34m)\u001b[0m\u001b[0;34m:\u001b[0m\u001b[0;34m\u001b[0m\u001b[0m\n\u001b[1;32m    324\u001b[0m             \u001b[0mhook\u001b[0m\u001b[0;34m(\u001b[0m\u001b[0mself\u001b[0m\u001b[0;34m,\u001b[0m \u001b[0minput\u001b[0m\u001b[0;34m)\u001b[0m\u001b[0;34m\u001b[0m\u001b[0m\n\u001b[0;32m--> 325\u001b[0;31m         \u001b[0mresult\u001b[0m \u001b[0;34m=\u001b[0m \u001b[0mself\u001b[0m\u001b[0;34m.\u001b[0m\u001b[0mforward\u001b[0m\u001b[0;34m(\u001b[0m\u001b[0;34m*\u001b[0m\u001b[0minput\u001b[0m\u001b[0;34m,\u001b[0m \u001b[0;34m**\u001b[0m\u001b[0mkwargs\u001b[0m\u001b[0;34m)\u001b[0m\u001b[0;34m\u001b[0m\u001b[0m\n\u001b[0m\u001b[1;32m    326\u001b[0m         \u001b[0;32mfor\u001b[0m \u001b[0mhook\u001b[0m \u001b[0;32min\u001b[0m \u001b[0mself\u001b[0m\u001b[0;34m.\u001b[0m\u001b[0m_forward_hooks\u001b[0m\u001b[0;34m.\u001b[0m\u001b[0mvalues\u001b[0m\u001b[0;34m(\u001b[0m\u001b[0;34m)\u001b[0m\u001b[0;34m:\u001b[0m\u001b[0;34m\u001b[0m\u001b[0m\n\u001b[1;32m    327\u001b[0m             \u001b[0mhook_result\u001b[0m \u001b[0;34m=\u001b[0m \u001b[0mhook\u001b[0m\u001b[0;34m(\u001b[0m\u001b[0mself\u001b[0m\u001b[0;34m,\u001b[0m \u001b[0minput\u001b[0m\u001b[0;34m,\u001b[0m \u001b[0mresult\u001b[0m\u001b[0;34m)\u001b[0m\u001b[0;34m\u001b[0m\u001b[0m\n",
      "\u001b[0;32m<ipython-input-2-baa077e3357c>\u001b[0m in \u001b[0;36mforward\u001b[0;34m(self, xf, xv, y)\u001b[0m\n\u001b[1;32m     33\u001b[0m \u001b[0;34m\u001b[0m\u001b[0m\n\u001b[1;32m     34\u001b[0m     \u001b[0;32mdef\u001b[0m \u001b[0mforward\u001b[0m\u001b[0;34m(\u001b[0m\u001b[0mself\u001b[0m\u001b[0;34m,\u001b[0m \u001b[0mxf\u001b[0m\u001b[0;34m,\u001b[0m \u001b[0mxv\u001b[0m\u001b[0;34m,\u001b[0m \u001b[0my\u001b[0m\u001b[0;34m)\u001b[0m\u001b[0;34m:\u001b[0m\u001b[0;34m\u001b[0m\u001b[0m\n\u001b[0;32m---> 35\u001b[0;31m         \u001b[0mattns\u001b[0m \u001b[0;34m=\u001b[0m \u001b[0;34m[\u001b[0m \u001b[0mself\u001b[0m\u001b[0;34m.\u001b[0m\u001b[0mattn\u001b[0m\u001b[0;34m[\u001b[0m\u001b[0mi\u001b[0m\u001b[0;34m]\u001b[0m\u001b[0;34m(\u001b[0m\u001b[0mxf\u001b[0m\u001b[0;34m,\u001b[0m\u001b[0mxv\u001b[0m\u001b[0;34m,\u001b[0m\u001b[0my\u001b[0m\u001b[0;34m)\u001b[0m \u001b[0;32mfor\u001b[0m \u001b[0mi\u001b[0m \u001b[0;32min\u001b[0m \u001b[0mrange\u001b[0m\u001b[0;34m(\u001b[0m\u001b[0;36m8\u001b[0m\u001b[0;34m)\u001b[0m \u001b[0;34m]\u001b[0m\u001b[0;34m\u001b[0m\u001b[0m\n\u001b[0m\u001b[1;32m     36\u001b[0m         \u001b[0mz\u001b[0m \u001b[0;34m=\u001b[0m \u001b[0my\u001b[0m \u001b[0;34m+\u001b[0m \u001b[0mtorch\u001b[0m\u001b[0;34m.\u001b[0m\u001b[0mcat\u001b[0m\u001b[0;34m(\u001b[0m\u001b[0mattns\u001b[0m\u001b[0;34m,\u001b[0m\u001b[0;36m1\u001b[0m\u001b[0;34m)\u001b[0m\u001b[0;34m\u001b[0m\u001b[0m\n\u001b[1;32m     37\u001b[0m         \u001b[0mz\u001b[0m \u001b[0;34m=\u001b[0m \u001b[0;34m(\u001b[0m\u001b[0mz\u001b[0m\u001b[0;34m-\u001b[0m\u001b[0mtorch\u001b[0m\u001b[0;34m.\u001b[0m\u001b[0mmean\u001b[0m\u001b[0;34m(\u001b[0m\u001b[0mz\u001b[0m\u001b[0;34m,\u001b[0m\u001b[0;36m1\u001b[0m\u001b[0;34m,\u001b[0m\u001b[0mkeepdim\u001b[0m\u001b[0;34m=\u001b[0m\u001b[0mTrue\u001b[0m\u001b[0;34m)\u001b[0m\u001b[0;34m)\u001b[0m \u001b[0;34m/\u001b[0m \u001b[0;34m(\u001b[0m\u001b[0;36m1e-16\u001b[0m \u001b[0;34m+\u001b[0m \u001b[0mtorch\u001b[0m\u001b[0;34m.\u001b[0m\u001b[0mstd\u001b[0m\u001b[0;34m(\u001b[0m\u001b[0mz\u001b[0m\u001b[0;34m,\u001b[0m\u001b[0;36m1\u001b[0m\u001b[0;34m,\u001b[0m\u001b[0mkeepdim\u001b[0m\u001b[0;34m=\u001b[0m\u001b[0mTrue\u001b[0m\u001b[0;34m)\u001b[0m\u001b[0;34m)\u001b[0m\u001b[0;34m\u001b[0m\u001b[0m\n",
      "\u001b[0;32m/usr/local/lib/python2.7/dist-packages/torch/nn/modules/module.pyc\u001b[0m in \u001b[0;36m__call__\u001b[0;34m(self, *input, **kwargs)\u001b[0m\n\u001b[1;32m    323\u001b[0m         \u001b[0;32mfor\u001b[0m \u001b[0mhook\u001b[0m \u001b[0;32min\u001b[0m \u001b[0mself\u001b[0m\u001b[0;34m.\u001b[0m\u001b[0m_forward_pre_hooks\u001b[0m\u001b[0;34m.\u001b[0m\u001b[0mvalues\u001b[0m\u001b[0;34m(\u001b[0m\u001b[0;34m)\u001b[0m\u001b[0;34m:\u001b[0m\u001b[0;34m\u001b[0m\u001b[0m\n\u001b[1;32m    324\u001b[0m             \u001b[0mhook\u001b[0m\u001b[0;34m(\u001b[0m\u001b[0mself\u001b[0m\u001b[0;34m,\u001b[0m \u001b[0minput\u001b[0m\u001b[0;34m)\u001b[0m\u001b[0;34m\u001b[0m\u001b[0m\n\u001b[0;32m--> 325\u001b[0;31m         \u001b[0mresult\u001b[0m \u001b[0;34m=\u001b[0m \u001b[0mself\u001b[0m\u001b[0;34m.\u001b[0m\u001b[0mforward\u001b[0m\u001b[0;34m(\u001b[0m\u001b[0;34m*\u001b[0m\u001b[0minput\u001b[0m\u001b[0;34m,\u001b[0m \u001b[0;34m**\u001b[0m\u001b[0mkwargs\u001b[0m\u001b[0;34m)\u001b[0m\u001b[0;34m\u001b[0m\u001b[0m\n\u001b[0m\u001b[1;32m    326\u001b[0m         \u001b[0;32mfor\u001b[0m \u001b[0mhook\u001b[0m \u001b[0;32min\u001b[0m \u001b[0mself\u001b[0m\u001b[0;34m.\u001b[0m\u001b[0m_forward_hooks\u001b[0m\u001b[0;34m.\u001b[0m\u001b[0mvalues\u001b[0m\u001b[0;34m(\u001b[0m\u001b[0;34m)\u001b[0m\u001b[0;34m:\u001b[0m\u001b[0;34m\u001b[0m\u001b[0m\n\u001b[1;32m    327\u001b[0m             \u001b[0mhook_result\u001b[0m \u001b[0;34m=\u001b[0m \u001b[0mhook\u001b[0m\u001b[0;34m(\u001b[0m\u001b[0mself\u001b[0m\u001b[0;34m,\u001b[0m \u001b[0minput\u001b[0m\u001b[0;34m,\u001b[0m \u001b[0mresult\u001b[0m\u001b[0;34m)\u001b[0m\u001b[0;34m\u001b[0m\u001b[0m\n",
      "\u001b[0;32m<ipython-input-2-baa077e3357c>\u001b[0m in \u001b[0;36mforward\u001b[0;34m(self, field, value, heads)\u001b[0m\n\u001b[1;32m     15\u001b[0m         \u001b[0mfvals\u001b[0m \u001b[0;34m=\u001b[0m \u001b[0mself\u001b[0m\u001b[0;34m.\u001b[0m\u001b[0mfield_to_val\u001b[0m\u001b[0;34m(\u001b[0m\u001b[0mvalue\u001b[0m\u001b[0;34m)\u001b[0m\u001b[0;34m\u001b[0m\u001b[0m\n\u001b[1;32m     16\u001b[0m \u001b[0;34m\u001b[0m\u001b[0m\n\u001b[0;32m---> 17\u001b[0;31m         \u001b[0mhkeys\u001b[0m \u001b[0;34m=\u001b[0m \u001b[0mself\u001b[0m\u001b[0;34m.\u001b[0m\u001b[0mhead_to_key\u001b[0m\u001b[0;34m(\u001b[0m\u001b[0mheads\u001b[0m\u001b[0;34m)\u001b[0m \u001b[0;31m# Batch * Keys * Heads\u001b[0m\u001b[0;34m\u001b[0m\u001b[0m\n\u001b[0m\u001b[1;32m     18\u001b[0m \u001b[0;34m\u001b[0m\u001b[0m\n\u001b[1;32m     19\u001b[0m         \u001b[0mz\u001b[0m \u001b[0;34m=\u001b[0m \u001b[0mtorch\u001b[0m\u001b[0;34m.\u001b[0m\u001b[0mbmm\u001b[0m\u001b[0;34m(\u001b[0m\u001b[0mfkeys\u001b[0m\u001b[0;34m.\u001b[0m\u001b[0mtranspose\u001b[0m\u001b[0;34m(\u001b[0m\u001b[0;36m1\u001b[0m\u001b[0;34m,\u001b[0m\u001b[0;36m2\u001b[0m\u001b[0;34m)\u001b[0m\u001b[0;34m,\u001b[0m \u001b[0mhkeys\u001b[0m\u001b[0;34m)\u001b[0m\u001b[0;34m/\u001b[0m\u001b[0msqrt\u001b[0m\u001b[0;34m(\u001b[0m\u001b[0mself\u001b[0m\u001b[0;34m.\u001b[0m\u001b[0mnkey\u001b[0m\u001b[0;34m)\u001b[0m\u001b[0;34m\u001b[0m\u001b[0m\n",
      "\u001b[0;32m/usr/local/lib/python2.7/dist-packages/torch/nn/modules/module.pyc\u001b[0m in \u001b[0;36m__call__\u001b[0;34m(self, *input, **kwargs)\u001b[0m\n\u001b[1;32m    323\u001b[0m         \u001b[0;32mfor\u001b[0m \u001b[0mhook\u001b[0m \u001b[0;32min\u001b[0m \u001b[0mself\u001b[0m\u001b[0;34m.\u001b[0m\u001b[0m_forward_pre_hooks\u001b[0m\u001b[0;34m.\u001b[0m\u001b[0mvalues\u001b[0m\u001b[0;34m(\u001b[0m\u001b[0;34m)\u001b[0m\u001b[0;34m:\u001b[0m\u001b[0;34m\u001b[0m\u001b[0m\n\u001b[1;32m    324\u001b[0m             \u001b[0mhook\u001b[0m\u001b[0;34m(\u001b[0m\u001b[0mself\u001b[0m\u001b[0;34m,\u001b[0m \u001b[0minput\u001b[0m\u001b[0;34m)\u001b[0m\u001b[0;34m\u001b[0m\u001b[0m\n\u001b[0;32m--> 325\u001b[0;31m         \u001b[0mresult\u001b[0m \u001b[0;34m=\u001b[0m \u001b[0mself\u001b[0m\u001b[0;34m.\u001b[0m\u001b[0mforward\u001b[0m\u001b[0;34m(\u001b[0m\u001b[0;34m*\u001b[0m\u001b[0minput\u001b[0m\u001b[0;34m,\u001b[0m \u001b[0;34m**\u001b[0m\u001b[0mkwargs\u001b[0m\u001b[0;34m)\u001b[0m\u001b[0;34m\u001b[0m\u001b[0m\n\u001b[0m\u001b[1;32m    326\u001b[0m         \u001b[0;32mfor\u001b[0m \u001b[0mhook\u001b[0m \u001b[0;32min\u001b[0m \u001b[0mself\u001b[0m\u001b[0;34m.\u001b[0m\u001b[0m_forward_hooks\u001b[0m\u001b[0;34m.\u001b[0m\u001b[0mvalues\u001b[0m\u001b[0;34m(\u001b[0m\u001b[0;34m)\u001b[0m\u001b[0;34m:\u001b[0m\u001b[0;34m\u001b[0m\u001b[0m\n\u001b[1;32m    327\u001b[0m             \u001b[0mhook_result\u001b[0m \u001b[0;34m=\u001b[0m \u001b[0mhook\u001b[0m\u001b[0;34m(\u001b[0m\u001b[0mself\u001b[0m\u001b[0;34m,\u001b[0m \u001b[0minput\u001b[0m\u001b[0;34m,\u001b[0m \u001b[0mresult\u001b[0m\u001b[0;34m)\u001b[0m\u001b[0;34m\u001b[0m\u001b[0m\n",
      "\u001b[0;32m/usr/local/lib/python2.7/dist-packages/torch/nn/modules/conv.pyc\u001b[0m in \u001b[0;36mforward\u001b[0;34m(self, input)\u001b[0m\n\u001b[1;32m    164\u001b[0m     \u001b[0;32mdef\u001b[0m \u001b[0mforward\u001b[0m\u001b[0;34m(\u001b[0m\u001b[0mself\u001b[0m\u001b[0;34m,\u001b[0m \u001b[0minput\u001b[0m\u001b[0;34m)\u001b[0m\u001b[0;34m:\u001b[0m\u001b[0;34m\u001b[0m\u001b[0m\n\u001b[1;32m    165\u001b[0m         return F.conv1d(input, self.weight, self.bias, self.stride,\n\u001b[0;32m--> 166\u001b[0;31m                         self.padding, self.dilation, self.groups)\n\u001b[0m\u001b[1;32m    167\u001b[0m \u001b[0;34m\u001b[0m\u001b[0m\n\u001b[1;32m    168\u001b[0m \u001b[0;34m\u001b[0m\u001b[0m\n",
      "\u001b[0;32m/usr/local/lib/python2.7/dist-packages/torch/nn/functional.pyc\u001b[0m in \u001b[0;36mconv1d\u001b[0;34m(input, weight, bias, stride, padding, dilation, groups)\u001b[0m\n\u001b[1;32m     52\u001b[0m                 \u001b[0m_single\u001b[0m\u001b[0;34m(\u001b[0m\u001b[0;36m0\u001b[0m\u001b[0;34m)\u001b[0m\u001b[0;34m,\u001b[0m \u001b[0mgroups\u001b[0m\u001b[0;34m,\u001b[0m \u001b[0mtorch\u001b[0m\u001b[0;34m.\u001b[0m\u001b[0mbackends\u001b[0m\u001b[0;34m.\u001b[0m\u001b[0mcudnn\u001b[0m\u001b[0;34m.\u001b[0m\u001b[0mbenchmark\u001b[0m\u001b[0;34m,\u001b[0m\u001b[0;34m\u001b[0m\u001b[0m\n\u001b[1;32m     53\u001b[0m                 torch.backends.cudnn.deterministic, torch.backends.cudnn.enabled)\n\u001b[0;32m---> 54\u001b[0;31m     \u001b[0;32mreturn\u001b[0m \u001b[0mf\u001b[0m\u001b[0;34m(\u001b[0m\u001b[0minput\u001b[0m\u001b[0;34m,\u001b[0m \u001b[0mweight\u001b[0m\u001b[0;34m,\u001b[0m \u001b[0mbias\u001b[0m\u001b[0;34m)\u001b[0m\u001b[0;34m\u001b[0m\u001b[0m\n\u001b[0m\u001b[1;32m     55\u001b[0m \u001b[0;34m\u001b[0m\u001b[0m\n\u001b[1;32m     56\u001b[0m \u001b[0;34m\u001b[0m\u001b[0m\n",
      "\u001b[0;31mKeyboardInterrupt\u001b[0m: "
     ]
    },
    {
     "data": {
      "image/png": "[encoded data removed]",
      "text/plain": [
       "<matplotlib.figure.Figure at 0x7f73c06d3d10>"
      ]
     },
     "metadata": {},
     "output_type": "display_data"
    }
   ],
   "source": [
    "#errs = []\n",
    "\n",
    "for epoch in range(40000):\n",
    "    lengths = [4,6,8,16]\n",
    "    nex = [2,4,6,8,10,20,40]\n",
    "    \n",
    "    net.zero_grad()\n",
    "    err = 0\n",
    "    count = 0\n",
    "    \n",
    "    for LENGTH in lengths:\n",
    "        for NE in nex:\n",
    "            data_mx = []\n",
    "            data_my = []\n",
    "            data_qx = []\n",
    "            data_qy = []\n",
    "\n",
    "            for i in range(40):\n",
    "                examples, results, queries, labels, rule = mkProblem(N_examples=NE, length=LENGTH)\n",
    "\n",
    "                data_mx.append(examples)\n",
    "                data_my.append(results)\n",
    "                data_qx.append(queries)\n",
    "                data_qy.append(labels)\n",
    "\n",
    "            data_mx = np.array(data_mx)\n",
    "            data_my = np.array(data_my)\n",
    "            data_qx = np.array(data_qx)\n",
    "            data_qy = np.array(data_qy)\n",
    "\n",
    "            mx = tovar(data_mx.reshape((data_mx.shape[0], data_mx.shape[1]*data_mx.shape[2], data_mx.shape[3])))\n",
    "            qx = tovar(data_qx.reshape((data_qx.shape[0], data_qx.shape[1]*data_qx.shape[2], data_qx.shape[3])))\n",
    "            my = tovar(data_my.reshape((data_my.shape[0], data_my.shape[1]*data_mx.shape[2], data_my.shape[3])))\n",
    "            qy = tovar(data_qy.reshape((data_qy.shape[0], data_qy.shape[1]*data_qx.shape[2], data_qy.shape[3])))\n",
    "\n",
    "            qp = net.forward(mx,my,qx)\n",
    "            loss = -torch.sum(qp*qy,1).mean()/LENGTH\n",
    "            loss.backward()\n",
    "            err = err + loss.cpu().data.numpy()[0]\n",
    "            count = count+1\n",
    "    net.adam.step()\n",
    "    errs.append(err/count)\n",
    "    plt.clf()\n",
    "    plt.plot(errs)\n",
    "    \n",
    "    cs = np.cumsum(errs)\n",
    "    plt.plot(np.arange(200,200+cs.shape[0]-400), (cs[400:]-cs[:-400])/400.0)\n",
    "    \n",
    "    display.clear_output(wait=True)\n",
    "    display.display(plt.gcf())\n",
    "    time.sleep(0.01)\n",
    "    \n",
    "    torch.save(net.state_dict(), open(\"net4.pth\",\"wb\"))"
   ]
  },
  {
   "cell_type": "code",
   "execution_count": 74,
   "metadata": {},
   "outputs": [
    {
     "data": {
      "image/png": "[encoded data removed]",
      "text/plain": [
       "<matplotlib.figure.Figure at 0x7f73b8690c90>"
      ]
     },
     "metadata": {},
     "output_type": "display_data"
    }
   ],
   "source": [
    "cs = np.cumsum(errs)\n",
    "cs = (cs[400:]-cs[:-400])/400.0\n",
    "plt.plot(cs)\n",
    "plt.show()"
   ]
  },
  {
   "cell_type": "code",
   "execution_count": 66,
   "metadata": {},
   "outputs": [
    {
     "data": {
      "text/plain": [
       "0.537229793073011"
      ]
     },
     "execution_count": 66,
     "metadata": {},
     "output_type": "execute_result"
    }
   ],
   "source": [
    "cs[-1]"
   ]
  },
  {
   "cell_type": "code",
   "execution_count": 55,
   "metadata": {
    "collapsed": true
   },
   "outputs": [],
   "source": [
    "for param in net.adam.param_groups:\n",
    "    param['lr'] = 1e-4"
   ]
  },
  {
   "cell_type": "code",
   "execution_count": 67,
   "metadata": {
    "collapsed": true
   },
   "outputs": [],
   "source": [
    "torch.save(net.state_dict(), open(\"net4.pth\",\"wb\"))"
   ]
  },
  {
   "cell_type": "code",
   "execution_count": 9,
   "metadata": {},
   "outputs": [],
   "source": [
    "def seq2oh(x):\n",
    "    y = np.zeros((1,4,len(x[0]), len(x)))\n",
    "    for i in range(len(x)):\n",
    "        for j in range(len(x[0])):\n",
    "            y[0,ord(x[i][j])-ord('1'),j,i] = 1\n",
    "    return y.reshape((1,4*len(x[0]), len(x)))\n",
    "\n",
    "def getprediction(mx, my, q):\n",
    "    examples = seq2oh(mx)\n",
    "    results = seq2oh(my)\n",
    "    queries = seq2oh(q)\n",
    "    \n",
    "    prediction = net.forward(tovar(examples), tovar(results), tovar(queries)).cpu().data.numpy()\n",
    "    prediction = prediction.reshape((4,examples.shape[1]//4,queries.shape[2]))\n",
    "    guesses = np.argmax(prediction, axis=0)\n",
    "    \n",
    "    results = []\n",
    "    for i in range(len(q)):\n",
    "        seq = ''\n",
    "        for j in range(len(q[0])):\n",
    "            seq = seq + chr(ord('1') + guesses[j,i])\n",
    "        results.append(seq)\n",
    "    \n",
    "    return results"
   ]
  },
  {
   "cell_type": "code",
   "execution_count": 10,
   "metadata": {},
   "outputs": [
    {
     "name": "stdout",
     "output_type": "stream",
     "text": [
      "['111112', '233442', '212213', '241114', '221112', '241214']\n",
      "['111112', '233442', '212213', '241114', '221112', '241214']\n"
     ]
    }
   ],
   "source": [
    "examples = ['123412', '112242', '132432', '322112', '413242', '222112']\n",
    "results  = ['214321', '242211', '234231', '211223', '242314', '211222']\n",
    "queries  = ['211111', '244332', '312212', '411142', '211122', '412142']\n",
    "correct  = ['111112', '233442', '212213', '241114', '221112', '241214']\n",
    "\n",
    "predictions = getprediction(examples, results, queries)\n",
    "print(predictions)\n",
    "print(correct)"
   ]
  },
  {
   "cell_type": "code",
   "execution_count": 11,
   "metadata": {},
   "outputs": [
    {
     "name": "stdout",
     "output_type": "stream",
     "text": [
      "['144332', '212433', '123432']\n",
      "['144332', '212433', '123432']\n"
     ]
    }
   ],
   "source": [
    "examples = ['131442', '233141', '222341', '431122', '343221']\n",
    "results  = ['311242', '212443', '214333', '332241', '233414']\n",
    "queries  = ['122334', '223141', '123214']\n",
    "correct  = ['144332', '212433', '123432']\n",
    "\n",
    "predictions = getprediction(examples, results, queries)\n",
    "print(predictions)\n",
    "print(correct)"
   ]
  },
  {
   "cell_type": "code",
   "execution_count": 12,
   "metadata": {},
   "outputs": [
    {
     "name": "stdout",
     "output_type": "stream",
     "text": [
      "['234323', '233234', '223333']\n",
      "['233243', '223334', '232343']\n"
     ]
    }
   ],
   "source": [
    "examples = ['131442', '233141', '222341', '431122', '343221']\n",
    "results  = ['334324', '323334', '223234', '343322', '432332']\n",
    "queries  = ['122334', '223141', '123214']\n",
    "correct  = ['233243', '223334', '232343']\n",
    "\n",
    "predictions = getprediction(examples, results, queries)\n",
    "print(predictions)\n",
    "print(correct)"
   ]
  },
  {
   "cell_type": "code",
   "execution_count": 13,
   "metadata": {},
   "outputs": [
    {
     "name": "stdout",
     "output_type": "stream",
     "text": [
      "['121222', '222121', '122212']\n",
      "['121212', '222121', '122112']\n"
     ]
    }
   ],
   "source": [
    "examples = ['131442', '233141', '222341', '431122', '343221']\n",
    "results  = ['121221', '222121', '221221', '221111', '222111']\n",
    "queries  = ['122334', '223141', '123214']\n",
    "correct  = ['121212', '222121', '122112']\n",
    "\n",
    "predictions = getprediction(examples, results, queries)\n",
    "print(predictions)\n",
    "print(correct)"
   ]
  },
  {
   "cell_type": "code",
   "execution_count": 73,
   "metadata": {},
   "outputs": [
    {
     "name": "stdout",
     "output_type": "stream",
     "text": [
      "['123412', '134231', '431221']\n"
     ]
    }
   ],
   "source": [
    "examples = ['131442', '233141', '222341', '431122']\n",
    "results =  ['141113', '214112', '242112', '434131']\n",
    "\n",
    "queries = ['111111', '121212', '432143']\n",
    "\n",
    "predictions = getprediction(examples, results, queries)\n",
    "print(predictions)"
   ]
  },
  {
   "cell_type": "code",
   "execution_count": null,
   "metadata": {
    "collapsed": true
   },
   "outputs": [],
   "source": [
    "examples = ['131442', '233141', '222341', '431122']\n",
    "results =  ['141113', '214112', '242112', '434131']\n",
    "queries = ['111111', '121212', '432143']\n",
    "\n",
    "predictions = getprediction(examples, results, queries)\n",
    "print(predictions)"
   ]
  },
  {
   "cell_type": "code",
   "execution_count": 61,
   "metadata": {},
   "outputs": [
    {
     "data": {
      "image/png": "[encoded data removed]",
      "text/plain": [
       "<matplotlib.figure.Figure at 0x7f73c061ebd0>"
      ]
     },
     "metadata": {},
     "output_type": "display_data"
    },
    {
     "data": {
      "image/png": "[encoded data removed]",
      "text/plain": [
       "<matplotlib.figure.Figure at 0x7f73c061ebd0>"
      ]
     },
     "metadata": {},
     "output_type": "display_data"
    }
   ],
   "source": [
    "accuracy = []\n",
    "N_ex = []\n",
    "\n",
    "for N in range(1,31):\n",
    "    acc = 0\n",
    "    for j in range(100):\n",
    "        data_mx = []\n",
    "        data_my = []\n",
    "        data_qx = []\n",
    "        data_qy = []\n",
    "\n",
    "        for i in range(40):\n",
    "            examples, results, queries, labels, rule = mkProblem(N_examples=N, length=8)\n",
    "\n",
    "            data_mx.append(examples)\n",
    "            data_my.append(results)\n",
    "            data_qx.append(queries)\n",
    "            data_qy.append(labels)\n",
    "\n",
    "        data_mx = np.array(data_mx)\n",
    "        data_my = np.array(data_my)\n",
    "        data_qx = np.array(data_qx)\n",
    "        data_qy = np.array(data_qy)\n",
    "\n",
    "        mx = tovar(data_mx.reshape((data_mx.shape[0], data_mx.shape[1]*data_mx.shape[2], data_mx.shape[3])))\n",
    "        qx = tovar(data_qx.reshape((data_qx.shape[0], data_qx.shape[1]*data_qx.shape[2], data_qx.shape[3])))\n",
    "        my = tovar(data_my.reshape((data_my.shape[0], data_my.shape[1]*data_mx.shape[2], data_my.shape[3])))\n",
    "        qy = tovar(data_qy.reshape((data_qy.shape[0], data_qy.shape[1]*data_qx.shape[2], data_qy.shape[3])))\n",
    "\n",
    "        qp = net.forward(mx,my,qx).cpu().data.numpy().reshape((40,4,8,10))\n",
    "        \n",
    "        acc += np.mean(np.argmax(qp,axis=1)==np.argmax(data_qy,axis=1))/100.0\n",
    "    accuracy.append(acc)\n",
    "    N_ex.append(N)\n",
    "    \n",
    "    plt.clf()\n",
    "    \n",
    "    plt.plot(N_ex, accuracy)\n",
    "    display.clear_output(wait=True)\n",
    "    display.display(plt.gcf())\n",
    "    time.sleep(0.01)"
   ]
  },
  {
   "cell_type": "code",
   "execution_count": 62,
   "metadata": {},
   "outputs": [
    {
     "data": {
      "image/png": "[encoded data removed]",
      "text/plain": [
       "<matplotlib.figure.Figure at 0x7f73c0763410>"
      ]
     },
     "metadata": {},
     "output_type": "display_data"
    },
    {
     "data": {
      "image/png": "[encoded data removed]",
      "text/plain": [
       "<matplotlib.figure.Figure at 0x7f73c0763410>"
      ]
     },
     "metadata": {},
     "output_type": "display_data"
    }
   ],
   "source": [
    "accuracy = []\n",
    "N_L = []\n",
    "\n",
    "for N in range(4,33,4):\n",
    "    acc = 0\n",
    "    for j in range(100):\n",
    "        data_mx = []\n",
    "        data_my = []\n",
    "        data_qx = []\n",
    "        data_qy = []\n",
    "\n",
    "        for i in range(40):\n",
    "            examples, results, queries, labels, rule = mkProblem(N_examples=10, length=N)\n",
    "\n",
    "            data_mx.append(examples)\n",
    "            data_my.append(results)\n",
    "            data_qx.append(queries)\n",
    "            data_qy.append(labels)\n",
    "\n",
    "        data_mx = np.array(data_mx)\n",
    "        data_my = np.array(data_my)\n",
    "        data_qx = np.array(data_qx)\n",
    "        data_qy = np.array(data_qy)\n",
    "\n",
    "        mx = tovar(data_mx.reshape((data_mx.shape[0], data_mx.shape[1]*data_mx.shape[2], data_mx.shape[3])))\n",
    "        qx = tovar(data_qx.reshape((data_qx.shape[0], data_qx.shape[1]*data_qx.shape[2], data_qx.shape[3])))\n",
    "        my = tovar(data_my.reshape((data_my.shape[0], data_my.shape[1]*data_mx.shape[2], data_my.shape[3])))\n",
    "        qy = tovar(data_qy.reshape((data_qy.shape[0], data_qy.shape[1]*data_qx.shape[2], data_qy.shape[3])))\n",
    "\n",
    "        qp = net.forward(mx,my,qx).cpu().data.numpy().reshape((40,4,N,10))\n",
    "        \n",
    "        acc += np.mean(np.argmax(qp,axis=1)==np.argmax(data_qy,axis=1))/100.0\n",
    "    accuracy.append(acc)\n",
    "    N_L.append(N)\n",
    "    \n",
    "    plt.clf()\n",
    "    \n",
    "    plt.plot(N_L, accuracy)\n",
    "    display.clear_output(wait=True)\n",
    "    display.display(plt.gcf())\n",
    "    time.sleep(0.01)"
   ]
  },
  {
   "cell_type": "code",
   "execution_count": 33,
   "metadata": {},
   "outputs": [
    {
     "data": {
      "text/plain": [
       "(40, 4, 8, 10)"
      ]
     },
     "execution_count": 33,
     "metadata": {},
     "output_type": "execute_result"
    }
   ],
   "source": [
    "data_qy.shape"
   ]
  },
  {
   "cell_type": "code",
   "execution_count": null,
   "metadata": {
    "collapsed": true
   },
   "outputs": [],
   "source": []
  }
 ],
 "metadata": {
  "kernelspec": {
   "display_name": "Python 3",
   "language": "python",
   "name": "python3"
  },
  "language_info": {
   "codemirror_mode": {
    "name": "ipython",
    "version": 3
   },
   "file_extension": ".py",
   "mimetype": "text/x-python",
   "name": "python",
   "nbconvert_exporter": "python",
   "pygments_lexer": "ipython3",
   "version": "3.6.3"
  },
  "varInspector": {
   "cols": {
    "lenName": 16,
    "lenType": 16,
    "lenVar": 40
   },
   "kernels_config": {
    "python": {
     "delete_cmd_postfix": "",
     "delete_cmd_prefix": "del ",
     "library": "var_list.py",
     "varRefreshCmd": "print(var_dic_list())"
    },
    "r": {
     "delete_cmd_postfix": ") ",
     "delete_cmd_prefix": "rm(",
     "library": "var_list.r",
     "varRefreshCmd": "cat(var_dic_list()) "
    }
   },
   "types_to_exclude": [
    "module",
    "function",
    "builtin_function_or_method",
    "instance",
    "_Feature"
   ],
   "window_display": false
  }
 },
 "nbformat": 4,
 "nbformat_minor": 2
}
